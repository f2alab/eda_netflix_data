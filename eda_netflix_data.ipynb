{
 "cells": [
  {
   "cell_type": "markdown",
   "id": "91af08f2",
   "metadata": {},
   "source": [
    "# **Perform *Exploratory Data Analysis* on the `netflix_data.csv` data to understand more about movies from the 1990s decade**"
   ]
  },
  {
   "cell_type": "markdown",
   "id": "9433a8fb",
   "metadata": {},
   "source": [
    "## 1. Import necessary libraries"
   ]
  },
  {
   "cell_type": "code",
   "execution_count": 46,
   "id": "6bfb29ba",
   "metadata": {},
   "outputs": [],
   "source": [
    "# Import libraries\n",
    "import numpy as np\n",
    "import matplotlib.pyplot as plt\n",
    "import pandas as pd\n",
    "import seaborn as sns\n",
    "from utils.utils import draw_stars_line"
   ]
  },
  {
   "cell_type": "markdown",
   "id": "16a30514",
   "metadata": {},
   "source": [
    "## 2. Load data"
   ]
  },
  {
   "cell_type": "code",
   "execution_count": 47,
   "id": "dd60a611",
   "metadata": {},
   "outputs": [
    {
     "name": "stdout",
     "output_type": "stream",
     "text": [
      "  show_id     type  title           director  \\\n",
      "0      s2    Movie   7:19  Jorge Michel Grau   \n",
      "1      s3    Movie  23:59       Gilbert Chan   \n",
      "2      s4    Movie      9        Shane Acker   \n",
      "3      s5    Movie     21     Robert Luketic   \n",
      "4      s6  TV Show     46        Serdar Akar   \n",
      "\n",
      "                                                cast        country  \\\n",
      "0  Demián Bichir, Héctor Bonilla, Oscar Serrano, ...         Mexico   \n",
      "1  Tedd Chan, Stella Chung, Henley Hii, Lawrence ...      Singapore   \n",
      "2  Elijah Wood, John C. Reilly, Jennifer Connelly...  United States   \n",
      "3  Jim Sturgess, Kevin Spacey, Kate Bosworth, Aar...  United States   \n",
      "4  Erdal Beşikçioğlu, Yasemin Allen, Melis Birkan...         Turkey   \n",
      "\n",
      "          date_added  release_year  duration  \\\n",
      "0  December 23, 2016          2016        93   \n",
      "1  December 20, 2018          2011        78   \n",
      "2  November 16, 2017          2009        80   \n",
      "3    January 1, 2020          2008       123   \n",
      "4       July 1, 2017          2016         1   \n",
      "\n",
      "                                         description             genre  \n",
      "0  After a devastating earthquake hits Mexico Cit...            Dramas  \n",
      "1  When an army recruit is found dead, his fellow...     Horror Movies  \n",
      "2  In a postapocalyptic world, rag-doll robots hi...            Action  \n",
      "3  A brilliant group of students become card-coun...            Dramas  \n",
      "4  A genetics professor experiments with a treatm...  International TV  \n"
     ]
    }
   ],
   "source": [
    "# Load the dataset\n",
    "data = pd.read_csv('netflix_data.csv')\n",
    "# show the first 5 rows\n",
    "print(data.head())"
   ]
  },
  {
   "cell_type": "markdown",
   "id": "541f1601",
   "metadata": {},
   "source": [
    "## 3. Data information: Columns, shape, dtypes, missing values"
   ]
  },
  {
   "cell_type": "code",
   "execution_count": 48,
   "id": "2e3d25d5",
   "metadata": {},
   "outputs": [
    {
     "name": "stdout",
     "output_type": "stream",
     "text": [
      "<class 'pandas.core.frame.DataFrame'>\n",
      "RangeIndex: 4812 entries, 0 to 4811\n",
      "Data columns (total 11 columns):\n",
      " #   Column        Non-Null Count  Dtype \n",
      "---  ------        --------------  ----- \n",
      " 0   show_id       4812 non-null   object\n",
      " 1   type          4812 non-null   object\n",
      " 2   title         4812 non-null   object\n",
      " 3   director      4812 non-null   object\n",
      " 4   cast          4812 non-null   object\n",
      " 5   country       4812 non-null   object\n",
      " 6   date_added    4812 non-null   object\n",
      " 7   release_year  4812 non-null   int64 \n",
      " 8   duration      4812 non-null   int64 \n",
      " 9   description   4812 non-null   object\n",
      " 10  genre         4812 non-null   object\n",
      "dtypes: int64(2), object(9)\n",
      "memory usage: 413.7+ KB\n",
      "None\n"
     ]
    }
   ],
   "source": [
    "# Display the first few rows of the dataset\n",
    "print(data.info())"
   ]
  },
  {
   "cell_type": "markdown",
   "id": "17f09b48",
   "metadata": {},
   "source": [
    "## 4. FILTERING MOVIES"
   ]
  },
  {
   "cell_type": "markdown",
   "id": "0b7fa646",
   "metadata": {},
   "source": [
    "### Check `type` column"
   ]
  },
  {
   "cell_type": "code",
   "execution_count": 49,
   "id": "58e0796b",
   "metadata": {},
   "outputs": [
    {
     "name": "stdout",
     "output_type": "stream",
     "text": [
      "type\n",
      "Movie      4677\n",
      "TV Show     135\n",
      "Name: count, dtype: int64\n",
      "\n",
      "\n",
      "**************************************************\n",
      "\n",
      "['Movie' 'TV Show']\n"
     ]
    }
   ],
   "source": [
    "# Check type column\n",
    "type_col = 'type'\n",
    "print(data[type_col].value_counts())\n",
    "\n",
    "draw_stars_line()\n",
    "\n",
    "print(data[type_col].unique())\n",
    "\n"
   ]
  },
  {
   "cell_type": "markdown",
   "id": "43404fae",
   "metadata": {},
   "source": [
    "### Movies data"
   ]
  },
  {
   "cell_type": "code",
   "execution_count": 50,
   "id": "bb798dd8",
   "metadata": {},
   "outputs": [
    {
     "name": "stdout",
     "output_type": "stream",
     "text": [
      "  show_id   type  title           director  \\\n",
      "0      s2  Movie   7:19  Jorge Michel Grau   \n",
      "1      s3  Movie  23:59       Gilbert Chan   \n",
      "2      s4  Movie      9        Shane Acker   \n",
      "3      s5  Movie     21     Robert Luketic   \n",
      "5      s7  Movie    122    Yasir Al Yasiri   \n",
      "\n",
      "                                                cast        country  \\\n",
      "0  Demián Bichir, Héctor Bonilla, Oscar Serrano, ...         Mexico   \n",
      "1  Tedd Chan, Stella Chung, Henley Hii, Lawrence ...      Singapore   \n",
      "2  Elijah Wood, John C. Reilly, Jennifer Connelly...  United States   \n",
      "3  Jim Sturgess, Kevin Spacey, Kate Bosworth, Aar...  United States   \n",
      "5  Amina Khalil, Ahmed Dawood, Tarek Lotfy, Ahmed...          Egypt   \n",
      "\n",
      "          date_added  release_year  duration  \\\n",
      "0  December 23, 2016          2016        93   \n",
      "1  December 20, 2018          2011        78   \n",
      "2  November 16, 2017          2009        80   \n",
      "3    January 1, 2020          2008       123   \n",
      "5       June 1, 2020          2019        95   \n",
      "\n",
      "                                         description          genre  \n",
      "0  After a devastating earthquake hits Mexico Cit...         Dramas  \n",
      "1  When an army recruit is found dead, his fellow...  Horror Movies  \n",
      "2  In a postapocalyptic world, rag-doll robots hi...         Action  \n",
      "3  A brilliant group of students become card-coun...         Dramas  \n",
      "5  After an awful accident, a couple admitted to ...  Horror Movies  \n"
     ]
    }
   ],
   "source": [
    "# Movie data\n",
    "movie_data = data[data[type_col] == 'Movie']\n",
    "# Show the first 5 rows of movie data\n",
    "print(movie_data.head())"
   ]
  },
  {
   "cell_type": "markdown",
   "id": "c25b1b59",
   "metadata": {},
   "source": [
    "### 1990s Decade Movies"
   ]
  },
  {
   "cell_type": "code",
   "execution_count": 51,
   "id": "220e2deb",
   "metadata": {},
   "outputs": [
    {
     "name": "stdout",
     "output_type": "stream",
     "text": [
      "<class 'pandas.core.frame.DataFrame'>\n",
      "Index: 183 entries, 6 to 4756\n",
      "Data columns (total 11 columns):\n",
      " #   Column        Non-Null Count  Dtype \n",
      "---  ------        --------------  ----- \n",
      " 0   show_id       183 non-null    object\n",
      " 1   type          183 non-null    object\n",
      " 2   title         183 non-null    object\n",
      " 3   director      183 non-null    object\n",
      " 4   cast          183 non-null    object\n",
      " 5   country       183 non-null    object\n",
      " 6   date_added    183 non-null    object\n",
      " 7   release_year  183 non-null    int64 \n",
      " 8   duration      183 non-null    int64 \n",
      " 9   description   183 non-null    object\n",
      " 10  genre         183 non-null    object\n",
      "dtypes: int64(2), object(9)\n",
      "memory usage: 17.2+ KB\n",
      "None\n"
     ]
    }
   ],
   "source": [
    "# 1990s decade movie data\n",
    "decade_1990s_movies = movie_data[(movie_data['release_year'] >= 1990) & (movie_data['release_year'] < 2000)]\n",
    "# Show the first 5 rows of 1990s decade movie data\n",
    "print(decade_1990s_movies.info())"
   ]
  },
  {
   "cell_type": "markdown",
   "id": "fe63c15f",
   "metadata": {},
   "source": [
    "### The most frequent movie duration in the 1990s"
   ]
  },
  {
   "cell_type": "code",
   "execution_count": 59,
   "id": "586e1259",
   "metadata": {},
   "outputs": [
    {
     "name": "stdout",
     "output_type": "stream",
     "text": [
      "The most frequent movie duration in the 1990s is 94 minutes.\n"
     ]
    },
    {
     "data": {
      "image/png": "[encoded data removed]",
      "text/plain": [
       "<Figure size 1000x600 with 1 Axes>"
      ]
     },
     "metadata": {},
     "output_type": "display_data"
    }
   ],
   "source": [
    "duration_col = 'duration'\n",
    "\n",
    "# plot the distribution of movie durations\n",
    "plt.figure(figsize=(10, 6))\n",
    "sns.histplot(decade_1990s_movies[duration_col], bins=20, kde=True)\n",
    "plt.title('Distribution of Movie Durations in the 1990s')\n",
    "plt.xlabel('Duration (minutes)')\n",
    "\n",
    "# The most frequent movie duration in the 1990s\n",
    "\n",
    "duration = int(decade_1990s_movies[duration_col].mode()[0])\n",
    "print(f\"The most frequent movie duration in the 1990s is {duration} minutes.\")\n"
   ]
  },
  {
   "cell_type": "markdown",
   "id": "18df6909",
   "metadata": {},
   "source": [
    "### The number of short action movies released in the 1990s\n",
    "\n",
    "> \n",
    "> A movie is considered short if it is less than 90 minutes\n",
    "> "
   ]
  },
  {
   "cell_type": "code",
   "execution_count": 60,
   "id": "a6e6afaa",
   "metadata": {},
   "outputs": [
    {
     "name": "stdout",
     "output_type": "stream",
     "text": [
      "                                                 title  release_year  duration\n",
      "145                             A Night at the Roxbury          1998        82\n",
      "333                 An American Tail: Fievel Goes West          1991        75\n",
      "334  An American Tail: The Mystery of the Night Mon...          1999        75\n",
      "428                  Auschwitz: Blueprints of Genocide          1994        49\n",
      "479                                              Balto          1995        78\n",
      "Number of shortest movies in the 1990s: 34\n"
     ]
    }
   ],
   "source": [
    "# Shortest movie in the 1990s\n",
    "shortest_movie = decade_1990s_movies[decade_1990s_movies[duration_col] < 90]\n",
    "print(shortest_movie[['title', 'release_year', duration_col]].head())\n",
    "\n",
    "short_movie_count = len(shortest_movie)\n",
    "print(f\"Number of shortest movies in the 1990s: {short_movie_count}\")"
   ]
  },
  {
   "cell_type": "code",
   "execution_count": null,
   "id": "793035d1",
   "metadata": {},
   "outputs": [],
   "source": []
  }
 ],
 "metadata": {
  "kernelspec": {
   "display_name": "Python 3",
   "language": "python",
   "name": "python3"
  },
  "language_info": {
   "codemirror_mode": {
    "name": "ipython",
    "version": 3
   },
   "file_extension": ".py",
   "mimetype": "text/x-python",
   "name": "python",
   "nbconvert_exporter": "python",
   "pygments_lexer": "ipython3",
   "version": "3.13.3"
  }
 },
 "nbformat": 4,
 "nbformat_minor": 5
}
